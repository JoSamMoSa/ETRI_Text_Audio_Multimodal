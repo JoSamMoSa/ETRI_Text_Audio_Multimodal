{
  "nbformat": 4,
  "nbformat_minor": 0,
  "metadata": {
    "colab": {
      "provenance": []
    },
    "kernelspec": {
      "name": "python3",
      "display_name": "Python 3"
    },
    "language_info": {
      "name": "python"
    }
  },
  "cells": [
    {
      "cell_type": "code",
      "source": [
        "import numpy as np"
      ],
      "metadata": {
        "id": "X4V9HquXkB9I"
      },
      "execution_count": null,
      "outputs": []
    },
    {
      "cell_type": "markdown",
      "source": [
        "예측값 / 실제값 / 확률 불러오기"
      ],
      "metadata": {
        "id": "8Cj6H-njs3so"
      }
    },
    {
      "cell_type": "code",
      "source": [
        "audio_truth = np.load('audio_truth.npy')\n",
        "text_truth = np.load('text_truth.npy')\n",
        "cm_truth = np.load('cmbert_truth.npy')"
      ],
      "metadata": {
        "id": "C6iBU526s22Y"
      },
      "execution_count": null,
      "outputs": []
    },
    {
      "cell_type": "code",
      "execution_count": null,
      "metadata": {
        "id": "oD20TeFfj2Fu"
      },
      "outputs": [],
      "source": [
        "audio_pred = np.load('audio_pred.npy')\n",
        "text_pred = np.load('text_pred.npy')\n",
        "cm_pred = np.load('cmbert_pred.npy')"
      ]
    },
    {
      "cell_type": "code",
      "source": [
        "audio_prob = np.load('audio_output.npy')\n",
        "text_prob = np.load('text_output.npy')\n",
        "cm_prob = np.load('cmbert_output.npy')"
      ],
      "metadata": {
        "id": "3-Qv6CbZtK3t"
      },
      "execution_count": null,
      "outputs": []
    },
    {
      "cell_type": "markdown",
      "source": [
        "크기 확인"
      ],
      "metadata": {
        "id": "SBl_02fbtZ8v"
      }
    },
    {
      "cell_type": "code",
      "source": [
        "print(\"audio\")\n",
        "print(\"실제값\", audio_truth.shape)\n",
        "print(\"예측클래스\", audio_pred.shape)\n",
        "print(\"확률\", audio_prob.shape)\n",
        "print(\"text\")\n",
        "print(\"실제값\", text_truth.shape)\n",
        "print(\"예측클래스\", text_pred.shape)\n",
        "print(\"확률\", text_prob.shape)\n",
        "print(\"cm\")\n",
        "print(\"실제값\", cm_truth.shape)\n",
        "print(\"예측클래스\", cm_pred.shape)\n",
        "print(\"확률\", cm_prob.shape)"
      ],
      "metadata": {
        "colab": {
          "base_uri": "https://localhost:8080/"
        },
        "id": "PNmN4RSNtbfQ",
        "outputId": "9d286a0b-8753-4f7a-de23-f929a2d24b27"
      },
      "execution_count": null,
      "outputs": [
        {
          "output_type": "stream",
          "name": "stdout",
          "text": [
            "audio\n",
            "실제값 (2025,)\n",
            "예측클래스 (2025,)\n",
            "확률 (2025, 7)\n",
            "text\n",
            "실제값 (2025,)\n",
            "예측클래스 (2025,)\n",
            "확률 (2025, 7)\n",
            "cm\n",
            "실제값 (2025,)\n",
            "예측클래스 (2025,)\n",
            "확률 (2025, 7)\n"
          ]
        }
      ]
    },
    {
      "cell_type": "markdown",
      "source": [
        "## stacking \n",
        "- lgbm 모델 사용"
      ],
      "metadata": {
        "id": "MEcHCvubuB5n"
      }
    },
    {
      "cell_type": "code",
      "source": [
        "audio_text_cm_pred = np.array([audio_pred, text_pred, cm_pred])"
      ],
      "metadata": {
        "id": "kA5u38KTuJY2"
      },
      "execution_count": null,
      "outputs": []
    },
    {
      "cell_type": "code",
      "source": [
        "audio_text_cm_pred.shape"
      ],
      "metadata": {
        "colab": {
          "base_uri": "https://localhost:8080/"
        },
        "id": "BsmRib_Zucrj",
        "outputId": "8d0443f1-284b-4fa0-89b7-f588bffc6e80"
      },
      "execution_count": null,
      "outputs": [
        {
          "output_type": "execute_result",
          "data": {
            "text/plain": [
              "(3, 2025)"
            ]
          },
          "metadata": {},
          "execution_count": 11
        }
      ]
    },
    {
      "cell_type": "code",
      "source": [
        "#행이 2025개. 열이 2개로 바꿔줘야함 !!!\n",
        "audio_text_cm_pred = np.transpose(audio_text_cm_pred)"
      ],
      "metadata": {
        "id": "cFwGi5d7ufp4"
      },
      "execution_count": null,
      "outputs": []
    },
    {
      "cell_type": "code",
      "source": [
        "audio_text_cm_pred[:10]"
      ],
      "metadata": {
        "colab": {
          "base_uri": "https://localhost:8080/"
        },
        "id": "O-sFXXu8usQ0",
        "outputId": "3ade434b-e52a-4365-84eb-e67170ed99b7"
      },
      "execution_count": null,
      "outputs": [
        {
          "output_type": "execute_result",
          "data": {
            "text/plain": [
              "array([[1, 0, 0],\n",
              "       [3, 0, 0],\n",
              "       [1, 0, 0],\n",
              "       [1, 0, 0],\n",
              "       [4, 0, 0],\n",
              "       [0, 0, 0],\n",
              "       [1, 0, 0],\n",
              "       [0, 0, 0],\n",
              "       [4, 0, 2],\n",
              "       [4, 0, 0]])"
            ]
          },
          "metadata": {},
          "execution_count": 13
        }
      ]
    },
    {
      "cell_type": "code",
      "source": [
        "import lightgbm as lgbm\n",
        "from lightgbm import LGBMClassifier\n",
        "from sklearn.metrics import accuracy_score, precision_score, recall_score, f1_score"
      ],
      "metadata": {
        "id": "uoNpXc-8vDsw"
      },
      "execution_count": null,
      "outputs": []
    },
    {
      "cell_type": "code",
      "source": [
        "lgbm = LGBMClassifier()\n",
        "lgbm.fit(audio_text_cm_pred, audio_truth)\n",
        "lgbm_pred = lgbm.predict(audio_text_cm_pred)\n",
        "print(\"정확도: {0:.4f}\".format(accuracy_score(audio_truth, lgbm_pred)))\n",
        "print(\"precision_score: {0:.4f}\".format(precision_score(audio_truth, lgbm_pred, average=\"weighted\")))\n",
        "print(\"recall_score: {0:.4f}\".format(recall_score(audio_truth, lgbm_pred, average=\"weighted\")))\n",
        "print(\"f1_score: {0:.4f}\".format(f1_score(audio_truth, lgbm_pred, average=\"weighted\")))"
      ],
      "metadata": {
        "colab": {
          "base_uri": "https://localhost:8080/"
        },
        "id": "h5VSzRg4uyQE",
        "outputId": "7c7adbb0-8628-4fd3-d14d-cc771ac8b636"
      },
      "execution_count": null,
      "outputs": [
        {
          "output_type": "stream",
          "name": "stdout",
          "text": [
            "정확도: 0.7269\n",
            "precision_score: 0.7236\n",
            "recall_score: 0.7269\n",
            "f1_score: 0.7168\n"
          ]
        }
      ]
    },
    {
      "cell_type": "markdown",
      "source": [
        "## soft voting"
      ],
      "metadata": {
        "id": "EE7A_uM_wG1V"
      }
    },
    {
      "cell_type": "code",
      "source": [
        "def softmax(x):\n",
        "    e_x = np.exp(x - np.max(x))\n",
        "    return e_x / e_x.sum()"
      ],
      "metadata": {
        "id": "dsBFXYUVzzq3"
      },
      "execution_count": null,
      "outputs": []
    },
    {
      "cell_type": "code",
      "source": [
        "#softmax 적용\n",
        "audio_prob = softmax(audio_prob)\n",
        "text_prob = softmax(text_prob)\n",
        "cm_prob = softmax(cm_prob)"
      ],
      "metadata": {
        "id": "4cjkUEGmzuWn"
      },
      "execution_count": null,
      "outputs": []
    },
    {
      "cell_type": "code",
      "source": [
        "audio_text_cm_pred_list = audio_prob + text_prob + cm_prob"
      ],
      "metadata": {
        "id": "YZ5LsydCxyT-"
      },
      "execution_count": null,
      "outputs": []
    },
    {
      "cell_type": "code",
      "source": [
        "labels = [0,1,2,3,4,5,6]"
      ],
      "metadata": {
        "id": "ZNWL8K9OyfE_"
      },
      "execution_count": null,
      "outputs": []
    },
    {
      "cell_type": "code",
      "source": [
        "soft_voting_label = []\n",
        "for i in range(len(audio_truth)):\n",
        "  label = labels[audio_text_cm_pred_list[i].argmax()]\n",
        "  soft_voting_label.append(label)"
      ],
      "metadata": {
        "id": "cvPOqHBLzJ4w"
      },
      "execution_count": null,
      "outputs": []
    },
    {
      "cell_type": "code",
      "source": [
        "len(soft_voting_label) #2025"
      ],
      "metadata": {
        "colab": {
          "base_uri": "https://localhost:8080/"
        },
        "id": "2YPM2uGWzV6-",
        "outputId": "b3ac3edb-ad21-4c7b-9ee2-3badf180ae4f"
      },
      "execution_count": null,
      "outputs": [
        {
          "output_type": "execute_result",
          "data": {
            "text/plain": [
              "2025"
            ]
          },
          "metadata": {},
          "execution_count": 21
        }
      ]
    },
    {
      "cell_type": "code",
      "source": [
        "print(\"정확도: {0:.4f}\".format(accuracy_score(audio_truth, soft_voting_label)))\n",
        "print(\"precision_score: {0:.4f}\".format(precision_score(audio_truth, soft_voting_label, average=\"weighted\")))\n",
        "print(\"recall_score: {0:.4f}\".format(recall_score(audio_truth, soft_voting_label, average=\"weighted\")))\n",
        "print(\"f1_score: {0:.4f}\".format(f1_score(audio_truth, soft_voting_label, average=\"weighted\")))"
      ],
      "metadata": {
        "colab": {
          "base_uri": "https://localhost:8080/"
        },
        "id": "Ps-O7INBynTe",
        "outputId": "f98c966b-d787-4292-fe46-f73724e76afe"
      },
      "execution_count": null,
      "outputs": [
        {
          "output_type": "stream",
          "name": "stdout",
          "text": [
            "정확도: 0.6899\n",
            "precision_score: 0.6935\n",
            "recall_score: 0.6899\n",
            "f1_score: 0.6678\n"
          ]
        }
      ]
    },
    {
      "cell_type": "markdown",
      "source": [
        "### weighted soft voting"
      ],
      "metadata": {
        "id": "dphaxWW80DSu"
      }
    },
    {
      "cell_type": "code",
      "source": [
        "audio_text_cm_pred_2 = 0.1*audio_prob + 0.67*text_prob + 0.23*cm_prob"
      ],
      "metadata": {
        "id": "IJXa9uX2zgli"
      },
      "execution_count": null,
      "outputs": []
    },
    {
      "cell_type": "code",
      "source": [
        "wsoft_voting_label = []\n",
        "for i in range(len(audio_truth)):\n",
        "  label = labels[audio_text_cm_pred_2[i].argmax()]\n",
        "  wsoft_voting_label.append(label)"
      ],
      "metadata": {
        "id": "djkislqK0LIq"
      },
      "execution_count": null,
      "outputs": []
    },
    {
      "cell_type": "code",
      "source": [
        "len(wsoft_voting_label) #2025"
      ],
      "metadata": {
        "colab": {
          "base_uri": "https://localhost:8080/"
        },
        "id": "Mr8XPshj0QM1",
        "outputId": "80bc5627-02c2-44dc-c8e6-5775e01e07c0"
      },
      "execution_count": null,
      "outputs": [
        {
          "output_type": "execute_result",
          "data": {
            "text/plain": [
              "2025"
            ]
          },
          "metadata": {},
          "execution_count": 56
        }
      ]
    },
    {
      "cell_type": "code",
      "source": [
        "print(\"정확도: {0:.4f}\".format(accuracy_score(audio_truth, wsoft_voting_label)))\n",
        "print(\"precision_score: {0:.4f}\".format(precision_score(audio_truth, wsoft_voting_label, average=\"weighted\")))\n",
        "print(\"recall_score: {0:.4f}\".format(recall_score(audio_truth, wsoft_voting_label, average=\"weighted\")))\n",
        "print(\"f1_score: {0:.4f}\".format(f1_score(audio_truth, wsoft_voting_label, average=\"weighted\")))"
      ],
      "metadata": {
        "colab": {
          "base_uri": "https://localhost:8080/"
        },
        "id": "Te2F63GK0SAf",
        "outputId": "c5bf514f-e68b-4c25-8956-abeac54f523e"
      },
      "execution_count": null,
      "outputs": [
        {
          "output_type": "stream",
          "name": "stdout",
          "text": [
            "정확도: 0.6968\n",
            "precision_score: 0.6969\n",
            "recall_score: 0.6968\n",
            "f1_score: 0.6826\n"
          ]
        }
      ]
    },
    {
      "cell_type": "markdown",
      "source": [
        "## hard voting"
      ],
      "metadata": {
        "id": "0nZoYgv30VqZ"
      }
    },
    {
      "cell_type": "code",
      "source": [
        "#가장 많이 나온 결과를 채택하는 코드\n",
        "def mode(list, weights):\n",
        "    count = 0\n",
        "    mode = 0;\n",
        "    for i, x in enumerate(list): \n",
        "        if list.count(x) * weights[i] > count:\n",
        "            count = list.count(x) * weights[i]\n",
        "            mode = x\n",
        "\n",
        "    return mode\n"
      ],
      "metadata": {
        "id": "OMAUp7oh0U3e"
      },
      "execution_count": null,
      "outputs": []
    },
    {
      "cell_type": "code",
      "source": [
        "hard_vot = []\n",
        "for i in range(len(audio_pred)):\n",
        "  index =  mode([audio_pred[i], text_pred[i], cm_pred[i]], [0.2, 0.5, 0.3])\n",
        "  hard_vot.append(index)"
      ],
      "metadata": {
        "id": "AKYIWsVW1G8L"
      },
      "execution_count": null,
      "outputs": []
    },
    {
      "cell_type": "code",
      "source": [
        "print(\"정확도: {0:.4f}\".format(accuracy_score(audio_truth, hard_vot)))\n",
        "print(\"precision_score: {0:.4f}\".format(precision_score(audio_truth, hard_vot, average=\"weighted\")))\n",
        "print(\"recall_score: {0:.4f}\".format(recall_score(audio_truth, hard_vot, average=\"weighted\")))\n",
        "print(\"f1_score: {0:.4f}\".format(f1_score(audio_truth, hard_vot, average=\"weighted\")))"
      ],
      "metadata": {
        "colab": {
          "base_uri": "https://localhost:8080/"
        },
        "id": "pGY1KMeH2Z_F",
        "outputId": "c58df993-1428-4b36-8d7a-d71dc5745110"
      },
      "execution_count": null,
      "outputs": [
        {
          "output_type": "stream",
          "name": "stdout",
          "text": [
            "정확도: 0.6780\n",
            "precision_score: 0.6745\n",
            "recall_score: 0.6780\n",
            "f1_score: 0.6614\n"
          ]
        }
      ]
    }
  ]
}